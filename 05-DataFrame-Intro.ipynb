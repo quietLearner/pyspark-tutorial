{
 "cells": [
  {
   "cell_type": "code",
   "execution_count": 36,
   "id": "68a6d7a7-693c-4fae-804f-3d92a1a30e35",
   "metadata": {},
   "outputs": [],
   "source": [
    "# Set the PySpark environment variables\n",
    "import os\n",
    "import sys\n",
    "os.environ['SPARK_HOME'] = r\"C:\\_dev\\spark-3.5.1-hadoop3\"\n",
    "# os.environ['PYSPARK_DRIVER_PYTHON'] = 'jupyter'\n",
    "# os.environ['PYSPARK_DRIVER_PYTHON_OPTS'] = 'lab'\n",
    "os.environ['PYSPARK_PYTHON'] = sys.executable"
   ]
  },
  {
   "cell_type": "code",
   "execution_count": 37,
   "id": "b9cb5875-598a-4d74-be55-3795530d9206",
   "metadata": {},
   "outputs": [],
   "source": [
    "from pyspark.sql import SparkSession\n",
    "from pyspark.sql.functions import desc"
   ]
  },
  {
   "cell_type": "code",
   "execution_count": 38,
   "id": "afd73f68-a07d-47df-952e-38f0e681320c",
   "metadata": {},
   "outputs": [],
   "source": [
    "# Create a SparkSession\n",
    "spark = SparkSession.builder.appName(\"DataFrame-Demo\").getOrCreate()"
   ]
  },
  {
   "cell_type": "markdown",
   "id": "3b294de5-c4a9-4f03-8dbc-ee29caaf0b99",
   "metadata": {},
   "source": [
    "### Using RDDs"
   ]
  },
  {
   "cell_type": "code",
   "execution_count": 51,
   "id": "97c0daf5-9971-4e48-ae98-fc090a4edf14",
   "metadata": {},
   "outputs": [],
   "source": [
    "rdd = spark.sparkContext.textFile(r\"D:\\pyspark-tutorial\\data\\data.txt\")\n",
    "\n",
    "# split the words by space\n",
    "rdd2 = rdd.flatMap(lambda line: line.split(\" \"))\n",
    "# ['Apache', 'Spark', 'has', 'its', 'architectural', 'foundation', 'in', 'the', 'resilient', 'distributed',...]\n",
    "# print(rdd2.collect()) \n",
    "# for element in rdd2.collect():\n",
    "#     print(element)\n",
    "# \n",
    "\n",
    "#for each word, create the tuple (word, 1)\n",
    "#rdd2.map(lambda word: (word, 1))\n",
    "\n",
    "# .reduceByKey(lambda a, b: a + b) get an RDD of the count of every unique word by aggregating (adding up) all the 1's you wrote in the last step\n",
    " \n",
    "result_rdd = rdd.flatMap(lambda line: line.split(\" \")) \\\n",
    "    .map(lambda word: (word, 1)) \\\n",
    "    .reduceByKey(lambda a, b: a + b) \\\n",
    "    .sortBy(lambda x: x[1], ascending=False)"
   ]
  },
  {
   "cell_type": "code",
   "execution_count": 52,
   "id": "96f3a503-e709-4248-91cf-5a55a1ee3549",
   "metadata": {},
   "outputs": [
    {
     "data": {
      "text/plain": [
       "[('the', 12),\n",
       " ('of', 7),\n",
       " ('a', 7),\n",
       " ('distributed', 5),\n",
       " ('in', 5),\n",
       " ('Spark', 4),\n",
       " ('as', 3),\n",
       " ('is', 3),\n",
       " ('API', 3),\n",
       " ('on', 3),\n",
       " ('Dataset', 3),\n",
       " ('RDD', 3),\n",
       " ('and', 2),\n",
       " ('results', 2),\n",
       " ('its', 2),\n",
       " ('data', 2),\n",
       " ('cluster', 2),\n",
       " ('that', 2),\n",
       " ('The', 2),\n",
       " ('was', 2)]"
      ]
     },
     "execution_count": 52,
     "metadata": {},
     "output_type": "execute_result"
    }
   ],
   "source": [
    "result_rdd.take(20)"
   ]
  },
  {
   "cell_type": "markdown",
   "id": "a02b9bba-8a25-4e8e-aed9-edb6700b391b",
   "metadata": {},
   "source": [
    "### Using DataFrames"
   ]
  },
  {
   "cell_type": "code",
   "execution_count": 53,
   "id": "248e9131-53fb-4c39-b301-4d415dcc169d",
   "metadata": {},
   "outputs": [],
   "source": [
    "df = spark.read.text(r\"D:\\pyspark-tutorial\\data\\data.txt\")\n",
    "\n",
    "result_df = df.selectExpr(\"explode(split(value, ' ')) as word\") \\\n",
    "    .groupBy(\"word\").count().orderBy(desc(\"count\"))"
   ]
  },
  {
   "cell_type": "code",
   "execution_count": 54,
   "id": "18231aa3-f162-4261-9a65-275f088f1675",
   "metadata": {},
   "outputs": [
    {
     "data": {
      "text/plain": [
       "[Row(word='the', count=12),\n",
       " Row(word='of', count=7),\n",
       " Row(word='a', count=7),\n",
       " Row(word='in', count=5),\n",
       " Row(word='distributed', count=5),\n",
       " Row(word='Spark', count=4),\n",
       " Row(word='API', count=3),\n",
       " Row(word='as', count=3),\n",
       " Row(word='RDD', count=3),\n",
       " Row(word='is', count=3),\n",
       " Row(word='on', count=3),\n",
       " Row(word='Dataset', count=3),\n",
       " Row(word='data', count=2),\n",
       " Row(word='programs', count=2),\n",
       " Row(word='its', count=2),\n",
       " Row(word='API.', count=2),\n",
       " Row(word='and', count=2),\n",
       " Row(word='results', count=2),\n",
       " Row(word='The', count=2),\n",
       " Row(word='function', count=2)]"
      ]
     },
     "execution_count": 54,
     "metadata": {},
     "output_type": "execute_result"
    }
   ],
   "source": [
    "result_df.take(20)"
   ]
  },
  {
   "cell_type": "code",
   "execution_count": null,
   "id": "a4ece8d9-ed91-4b4e-802f-a6e260dc46b4",
   "metadata": {},
   "outputs": [],
   "source": [
    "spark.stop()"
   ]
  },
  {
   "cell_type": "code",
   "execution_count": null,
   "id": "e509b04d-32b3-4b17-ab4e-6ed025b09762",
   "metadata": {},
   "outputs": [],
   "source": []
  }
 ],
 "metadata": {
  "kernelspec": {
   "display_name": "Python 3 (ipykernel)",
   "language": "python",
   "name": "python3"
  },
  "language_info": {
   "codemirror_mode": {
    "name": "ipython",
    "version": 3
   },
   "file_extension": ".py",
   "mimetype": "text/x-python",
   "name": "python",
   "nbconvert_exporter": "python",
   "pygments_lexer": "ipython3",
   "version": "3.11.9"
  }
 },
 "nbformat": 4,
 "nbformat_minor": 5
}
