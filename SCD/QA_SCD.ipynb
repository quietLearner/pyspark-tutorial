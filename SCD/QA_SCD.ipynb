{
 "cells": [
  {
   "cell_type": "code",
   "execution_count": 1,
   "metadata": {},
   "outputs": [],
   "source": [
    "# Set the PySpark environment variables\n",
    "import os\n",
    "import sys\n",
    "\n",
    "os.environ[\"SPARK_HOME\"] = r\"C:\\_dev\\spark-3.5.1-hadoop3\"\n",
    "# os.environ['PYSPARK_DRIVER_PYTHON'] = 'jupyter'\n",
    "# os.environ['PYSPARK_DRIVER_PYTHON_OPTS'] = 'lab'\n",
    "os.environ[\"PYSPARK_PYTHON\"] = sys.executable"
   ]
  },
  {
   "cell_type": "code",
   "execution_count": 2,
   "metadata": {},
   "outputs": [],
   "source": [
    "from pyspark.sql.window import Window\n",
    "\n",
    "# from pyspark.sql import types as T\n",
    "from pyspark.sql.types import (\n",
    "    StructType,\n",
    "    StructField,\n",
    "    StringType,\n",
    "    IntegerType,\n",
    "    DoubleType,\n",
    "    TimestampType,\n",
    ")\n",
    "\n",
    "# importing sparksession\n",
    "from pyspark.sql import SparkSession\n",
    "\n",
    "from datetime import datetime\n",
    "\n",
    "\n",
    "# creating a sparksession object\n",
    "# and providing appName\n",
    "spark = SparkSession.builder.appName(\"pyspark_window\").getOrCreate()"
   ]
  },
  {
   "cell_type": "code",
   "execution_count": 3,
   "metadata": {},
   "outputs": [
    {
     "name": "stdout",
     "output_type": "stream",
     "text": [
      "root\n",
      " |-- Id: integer (nullable = true)\n",
      " |-- PhysicalAddress_Latitude: integer (nullable = true)\n",
      " |-- __START_AT: timestamp (nullable = true)\n",
      " |-- __END_AT: timestamp (nullable = true)\n",
      "\n",
      "+---+------------------------+--------------------+--------------------+\n",
      "| Id|PhysicalAddress_Latitude|          __START_AT|            __END_AT|\n",
      "+---+------------------------+--------------------+--------------------+\n",
      "|  1|                     111|2023-02-17 08:29:...|2023-02-18 08:29:...|\n",
      "+---+------------------------+--------------------+--------------------+\n",
      "\n"
     ]
    }
   ],
   "source": [
    "schema = StructType(  # Define the whole schema within a StructType\n",
    "    [\n",
    "        StructField(\"Id\", IntegerType(), True),\n",
    "        StructField(\"PhysicalAddress_Latitude\", IntegerType(), True),\n",
    "        StructField(\"__START_AT\", TimestampType(), True),\n",
    "        StructField(\"__END_AT\", TimestampType(), True),\n",
    "    ]\n",
    ")\n",
    "\n",
    "data = [\n",
    "    (\n",
    "        1,\n",
    "        111,\n",
    "        datetime.strptime(\"2023-02-17T08:29:42.126Z\", \"%Y-%m-%dT%H:%M:%S.%fZ\"),\n",
    "        datetime.strptime(\"2023-02-18T08:29:42.126Z\", \"%Y-%m-%dT%H:%M:%S.%fZ\"),\n",
    "    ),\n",
    "]\n",
    "\n",
    "\n",
    "df = spark.createDataFrame(data, schema)\n",
    "\n",
    "\n",
    "df.printSchema()\n",
    "\n",
    "\n",
    "df.show()"
   ]
  }
 ],
 "metadata": {
  "kernelspec": {
   "display_name": "Python 3 (ipykernel)",
   "language": "python",
   "name": "python3"
  }
 },
 "nbformat": 4,
 "nbformat_minor": 2
}
