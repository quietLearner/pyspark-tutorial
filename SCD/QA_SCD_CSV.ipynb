{
 "cells": [
  {
   "cell_type": "code",
   "execution_count": 1,
   "metadata": {},
   "outputs": [],
   "source": [
    "# Set the PySpark environment variables\n",
    "import os\n",
    "import sys\n",
    "\n",
    "os.environ[\"SPARK_HOME\"] = r\"C:\\_dev\\spark-3.5.1-hadoop3\"\n",
    "# os.environ['PYSPARK_DRIVER_PYTHON'] = 'jupyter'\n",
    "# os.environ['PYSPARK_DRIVER_PYTHON_OPTS'] = 'lab'\n",
    "os.environ[\"PYSPARK_PYTHON\"] = sys.executable"
   ]
  },
  {
   "cell_type": "code",
   "execution_count": 2,
   "metadata": {},
   "outputs": [],
   "source": [
    "from pyspark.sql import SparkSession\n",
    "from pyspark.sql.functions import *\n",
    "from pyspark.sql.window import Window\n",
    "\n",
    "\n",
    "# Create a SparkSession\n",
    "spark = SparkSession.builder.appName(\"QA_SCD\").getOrCreate()"
   ]
  },
  {
   "cell_type": "code",
   "execution_count": 3,
   "metadata": {},
   "outputs": [
    {
     "name": "stdout",
     "output_type": "stream",
     "text": [
      "root\n",
      " |-- Id: integer (nullable = true)\n",
      " |-- PhysicalAddress_Latitude: integer (nullable = true)\n",
      " |-- __START_AT: string (nullable = true)\n",
      " |-- __END_AT: string (nullable = true)\n",
      "\n",
      "+---+------------------------+--------------------+--------------------+\n",
      "| Id|PhysicalAddress_Latitude|          __START_AT|            __END_AT|\n",
      "+---+------------------------+--------------------+--------------------+\n",
      "|  1|                     111|2023-02-17T08:29:...|2023-02-18T08:29:...|\n",
      "|  1|                     112|2023-02-18T08:29:...|2023-02-19T08:29:...|\n",
      "|  1|                     112|2023-02-19T08:29:...|2023-02-20T08:29:...|\n",
      "|  1|                     112|2023-02-20T08:29:...|2023-02-21T08:29:...|\n",
      "|  1|                     113|2023-02-21T08:29:...|                NULL|\n",
      "|  2|                     221|2023-02-22T08:29:...|                NULL|\n",
      "|  3|                     331|2023-02-23T08:29:...|                NULL|\n",
      "|  4|                     441|2023-02-24T08:29:...|2023-02-25T08:29:...|\n",
      "|  4|                    NULL|2023-02-25T08:29:...|2023-02-26T08:29:...|\n",
      "|  4|                     442|2023-02-26T08:29:...|                NULL|\n",
      "|  5|                     442|2023-02-27T08:29:...|2023-02-28T08:29:...|\n",
      "|  5|                    NULL|2023-02-28T08:29:...|2023-02-29T08:29:...|\n",
      "|  5|                     442|2023-02-29T08:29:...|                NULL|\n",
      "+---+------------------------+--------------------+--------------------+\n",
      "\n"
     ]
    }
   ],
   "source": [
    "# read csv file\n",
    "source = spark.read.csv(\n",
    "    \"D:\\\\pyspark-tutorial\\\\SCD\\\\data\\\\gaddress.csv\", header=True, inferSchema=True\n",
    ")\n",
    "\n",
    "source.printSchema()\n",
    "\n",
    "source.show(30)"
   ]
  },
  {
   "cell_type": "code",
   "execution_count": null,
   "metadata": {},
   "outputs": [],
   "source": []
  },
  {
   "cell_type": "code",
   "execution_count": 4,
   "metadata": {},
   "outputs": [],
   "source": [
    "# target = spark.read.csv(\"D:\\\\pyspark-tutorial\\\\SCD\\\\data\\\\location_dim.csv\", header=True, inferSchema=True)\n",
    "\n",
    "# target.printSchema()\n",
    "\n",
    "# target.show(30)"
   ]
  },
  {
   "cell_type": "code",
   "execution_count": 5,
   "metadata": {},
   "outputs": [
    {
     "name": "stdout",
     "output_type": "stream",
     "text": [
      "+---+------------------------+--------------------+--------------------+-----------------------------+-----------------------------+--------+--------------------+--------------------+\n",
      "| Id|PhysicalAddress_Latitude|          __START_AT|            __END_AT|prev_PhysicalAddress_Latitude|next_PhysicalAddress_Latitude|adjacent|      __START_AT_NEW|        __END_AT_NEW|\n",
      "+---+------------------------+--------------------+--------------------+-----------------------------+-----------------------------+--------+--------------------+--------------------+\n",
      "|  1|                     111|2023-02-17T08:29:...|2023-02-18T08:29:...|                         NULL|                          112|   False|2023-02-17T08:29:...|2023-02-18T08:29:...|\n",
      "|  1|                     112|2023-02-18T08:29:...|2023-02-19T08:29:...|                          111|                          112|   First|2023-02-18T08:29:...|2023-02-19T08:29:...|\n",
      "|  1|                     112|2023-02-19T08:29:...|2023-02-20T08:29:...|                          112|                          112|  Middle|                NULL|                NULL|\n",
      "|  1|                     112|2023-02-20T08:29:...|2023-02-21T08:29:...|                          112|                          113|    Last|2023-02-20T08:29:...|2023-02-21T08:29:...|\n",
      "|  1|                     113|2023-02-21T08:29:...|                NULL|                          112|                         NULL|   False|2023-02-21T08:29:...|                NULL|\n",
      "|  2|                     221|2023-02-22T08:29:...|                NULL|                         NULL|                         NULL|   False|2023-02-22T08:29:...|                NULL|\n",
      "|  3|                     331|2023-02-23T08:29:...|                NULL|                         NULL|                         NULL|   False|2023-02-23T08:29:...|                NULL|\n",
      "|  4|                     441|2023-02-24T08:29:...|2023-02-25T08:29:...|                         NULL|                         NULL|   False|2023-02-24T08:29:...|2023-02-25T08:29:...|\n",
      "|  4|                    NULL|2023-02-25T08:29:...|2023-02-26T08:29:...|                          441|                          442|   False|2023-02-25T08:29:...|2023-02-26T08:29:...|\n",
      "|  4|                     442|2023-02-26T08:29:...|                NULL|                         NULL|                         NULL|   False|2023-02-26T08:29:...|                NULL|\n",
      "|  5|                     442|2023-02-27T08:29:...|2023-02-28T08:29:...|                         NULL|                         NULL|   False|2023-02-27T08:29:...|2023-02-28T08:29:...|\n",
      "|  5|                    NULL|2023-02-28T08:29:...|2023-02-29T08:29:...|                          442|                          442|   False|2023-02-28T08:29:...|2023-02-29T08:29:...|\n",
      "|  5|                     442|2023-02-29T08:29:...|                NULL|                         NULL|                         NULL|   False|2023-02-29T08:29:...|                NULL|\n",
      "+---+------------------------+--------------------+--------------------+-----------------------------+-----------------------------+--------+--------------------+--------------------+\n",
      "\n",
      "+---+------------------------+--------------------+--------------------+-----------------------------+-----------------------------+--------+--------------------+--------------------+\n",
      "| Id|PhysicalAddress_Latitude|          __START_AT|            __END_AT|prev_PhysicalAddress_Latitude|next_PhysicalAddress_Latitude|adjacent|      __START_AT_NEW|        __END_AT_NEW|\n",
      "+---+------------------------+--------------------+--------------------+-----------------------------+-----------------------------+--------+--------------------+--------------------+\n",
      "|  1|                     111|2023-02-17T08:29:...|2023-02-18T08:29:...|                         NULL|                          112|   False|2023-02-17T08:29:...|2023-02-18T08:29:...|\n",
      "|  1|                     112|2023-02-18T08:29:...|2023-02-19T08:29:...|                          111|                          112|   First|2023-02-18T08:29:...|2023-02-19T08:29:...|\n",
      "|  1|                     112|2023-02-20T08:29:...|2023-02-21T08:29:...|                          112|                          113|    Last|2023-02-20T08:29:...|2023-02-21T08:29:...|\n",
      "|  1|                     113|2023-02-21T08:29:...|                NULL|                          112|                         NULL|   False|2023-02-21T08:29:...|                NULL|\n",
      "|  2|                     221|2023-02-22T08:29:...|                NULL|                         NULL|                         NULL|   False|2023-02-22T08:29:...|                NULL|\n",
      "|  3|                     331|2023-02-23T08:29:...|                NULL|                         NULL|                         NULL|   False|2023-02-23T08:29:...|                NULL|\n",
      "|  4|                     441|2023-02-24T08:29:...|2023-02-25T08:29:...|                         NULL|                         NULL|   False|2023-02-24T08:29:...|2023-02-25T08:29:...|\n",
      "|  4|                    NULL|2023-02-25T08:29:...|2023-02-26T08:29:...|                          441|                          442|   False|2023-02-25T08:29:...|2023-02-26T08:29:...|\n",
      "|  4|                     442|2023-02-26T08:29:...|                NULL|                         NULL|                         NULL|   False|2023-02-26T08:29:...|                NULL|\n",
      "|  5|                     442|2023-02-27T08:29:...|2023-02-28T08:29:...|                         NULL|                         NULL|   False|2023-02-27T08:29:...|2023-02-28T08:29:...|\n",
      "|  5|                    NULL|2023-02-28T08:29:...|2023-02-29T08:29:...|                          442|                          442|   False|2023-02-28T08:29:...|2023-02-29T08:29:...|\n",
      "|  5|                     442|2023-02-29T08:29:...|                NULL|                         NULL|                         NULL|   False|2023-02-29T08:29:...|                NULL|\n",
      "+---+------------------------+--------------------+--------------------+-----------------------------+-----------------------------+--------+--------------------+--------------------+\n",
      "\n"
     ]
    }
   ],
   "source": [
    "windowPartition = Window.partitionBy(\"Id\").orderBy(\"__START_AT\")\n",
    "\n",
    "source_new =source.withColumn(\n",
    "    \"prev_PhysicalAddress_Latitude\",\n",
    "    lag(\"PhysicalAddress_Latitude\", 1).over(windowPartition),\n",
    ").withColumn(\n",
    "    \"next_PhysicalAddress_Latitude\",\n",
    "    lead(\"PhysicalAddress_Latitude\", 1).over(windowPartition),\n",
    ").withColumn(\n",
    "    \"adjacent\",\n",
    "    when(\n",
    "        (col(\"PhysicalAddress_Latitude\") != col(\"prev_PhysicalAddress_Latitude\"))\n",
    "        & (col(\"PhysicalAddress_Latitude\") == col(\"next_PhysicalAddress_Latitude\")),\n",
    "        lit(\"First\"),\n",
    "    )\n",
    "    .when(\n",
    "        (col(\"PhysicalAddress_Latitude\") == col(\"prev_PhysicalAddress_Latitude\"))\n",
    "        & (col(\"PhysicalAddress_Latitude\") == col(\"next_PhysicalAddress_Latitude\")),\n",
    "        lit(\"Middle\"),\n",
    "    )\n",
    "    .when(\n",
    "        (col(\"PhysicalAddress_Latitude\") == col(\"prev_PhysicalAddress_Latitude\"))\n",
    "        & (col(\"PhysicalAddress_Latitude\") != col(\"next_PhysicalAddress_Latitude\")),\n",
    "        lit(\"Last\"),\n",
    "    )\n",
    "    .otherwise(lit(\"False\")),\n",
    ").withColumn(\"__START_AT_NEW\", when(col(\"adjacent\") != \"Middle\", col(\"__START_AT\")).otherwise(lit(None))).withColumn(\"__END_AT_NEW\", when(col(\"adjacent\") != \"Middle\", col(\"__END_AT\")).otherwise(lit(None)))\n",
    "\n",
    "source_new.show()\n",
    "\n",
    "# drop rows with adjacent != Middle\n",
    "source_new = source_new.filter(col(\"adjacent\") != \"Middle\")\n",
    "\n",
    "source_new.show()"
   ]
  },
  {
   "cell_type": "code",
   "execution_count": 7,
   "metadata": {},
   "outputs": [
    {
     "name": "stdout",
     "output_type": "stream",
     "text": [
      "+---+------------------------+--------------------+--------------------+\n",
      "| Id|PhysicalAddress_Latitude|          __START_AT|            __END_AT|\n",
      "+---+------------------------+--------------------+--------------------+\n",
      "|  1|                     111|2023-02-17T08:29:...|2023-02-18T08:29:...|\n",
      "|  1|                     112|2023-02-18T08:29:...|2023-02-19T08:29:...|\n",
      "|  1|                     112|2023-02-20T08:29:...|2023-02-21T08:29:...|\n",
      "|  1|                     113|2023-02-21T08:29:...|                NULL|\n",
      "|  2|                     221|2023-02-22T08:29:...|                NULL|\n",
      "|  3|                     331|2023-02-23T08:29:...|                NULL|\n",
      "|  4|                     441|2023-02-24T08:29:...|2023-02-25T08:29:...|\n",
      "|  4|                    NULL|2023-02-25T08:29:...|2023-02-26T08:29:...|\n",
      "|  4|                     442|2023-02-26T08:29:...|                NULL|\n",
      "|  5|                     442|2023-02-27T08:29:...|2023-02-28T08:29:...|\n",
      "|  5|                    NULL|2023-02-28T08:29:...|2023-02-29T08:29:...|\n",
      "|  5|                     442|2023-02-29T08:29:...|                NULL|\n",
      "+---+------------------------+--------------------+--------------------+\n",
      "\n"
     ]
    }
   ],
   "source": [
    "# Transfer to new dataframe from source\n",
    "source_expected = source_new.withColumn(\"__START_AT\", col(\"__START_AT_NEW\")) \\\n",
    ".withColumn(\"__END_AT\", col(\"__END_AT_NEW\")) \\\n",
    ".drop(\"prev_PhysicalAddress_Latitude\", \"next_PhysicalAddress_Latitude\", \"adjacent\", \"__START_AT_NEW\", \"__END_AT_NEW\")\n",
    "source_expected.show()"
   ]
  }
 ],
 "metadata": {
  "kernelspec": {
   "display_name": "Python 3 (ipykernel)",
   "language": "python",
   "name": "python3"
  },
  "language_info": {
   "codemirror_mode": {
    "name": "ipython",
    "version": 3
   },
   "file_extension": ".py",
   "mimetype": "text/x-python",
   "name": "python",
   "nbconvert_exporter": "python",
   "pygments_lexer": "ipython3",
   "version": "3.11.9"
  }
 },
 "nbformat": 4,
 "nbformat_minor": 2
}
